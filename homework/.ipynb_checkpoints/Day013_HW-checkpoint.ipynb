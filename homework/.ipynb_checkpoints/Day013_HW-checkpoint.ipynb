{
 "cells": [
  {
   "cell_type": "markdown",
   "metadata": {},
   "source": [
    "# PTT 網路爬蟲實作練習\n",
    "\n",
    "\n",
    "* 能夠利用 Request + BeatifulSour 撰寫爬蟲，並存放到合適的資料結構\n"
   ]
  },
  {
   "cell_type": "markdown",
   "metadata": {},
   "source": [
    "## 作業目標\n",
    "\n",
    "根據範例 ，完成以下問題：\n",
    "\n",
    "* ① 印出最新文章的「作者」「標題」「時間」\n",
    "* ② 印出第一頁所有文章的「作者」「標題」「時間」\n"
   ]
  },
  {
   "cell_type": "code",
   "execution_count": 39,
   "metadata": {},
   "outputs": [],
   "source": [
    "import requests\n",
    "from bs4 import BeautifulSoup\n",
    "\n",
    "url = 'https://www.ptt.cc/bbs/NBA/index.html'\n",
    "r = requests.get(url)\n",
    "\n",
    "soup = BeautifulSoup(r.text, \"html5lib\")"
   ]
  },
  {
   "cell_type": "markdown",
   "metadata": {},
   "source": [
    "### ① 印出最新文章的「作者」「標題」「時間」"
   ]
  },
  {
   "cell_type": "code",
   "execution_count": 46,
   "metadata": {},
   "outputs": [
    {
     "name": "stdout",
     "output_type": "stream",
     "text": [
      "-\n",
      "(本文已被刪除) [jjeffrey1015]\n",
      " 3/16\n"
     ]
    }
   ],
   "source": [
    "author = soup.find(class_=\"r-ent\").find(class_='author').text\n",
    "title = soup.find(class_=\"r-ent\").find(class_='title').text.replace('\\t', '').replace('\\n', '')\n",
    "date = soup.find(class_=\"r-ent\").find(class_='date').text\n",
    "print (author)\n",
    "print (title)\n",
    "print (date)"
   ]
  },
  {
   "cell_type": "code",
   "execution_count": null,
   "metadata": {},
   "outputs": [],
   "source": [
    "### 範例解答\n",
    "### 但我電腦跑不出結果QQQ\n",
    "\n",
    "posts = []\n",
    "\n",
    "for d in soup.find_all(class_=\"title\"):\n",
    "    try:\n",
    "        post = {}\n",
    "        post['標題'] = d.text.replace('\\t', '').replace('\\n', '')\n",
    "        \n",
    "        r = BeautifulSoup(requests.get('https://www.ptt.cc'+d.find('a')['href']).text, \"html5lib\")\n",
    "        post['作者'] = r.find(class_='article-meta-value').text\n",
    "        post['時間'] = r.find_all(class_='article-meta-value')[-1].text\n",
    "        post['時間'] = datetime.strptime(post['時間'], \"%a %b %d %H:%M:%S %Y\")\n",
    "        # 時間轉換：https://stackoverflow.com/questions/10256093/how-to-convert-ctime-to-datetime-in-python\n",
    "        \n",
    "        posts.append(post)\n",
    "    except:\n",
    "        continue\n",
    "        \n",
    "posts = sorted(posts, key= lambda x: x['時間'])\n",
    "posts[-1]"
   ]
  },
  {
   "cell_type": "markdown",
   "metadata": {},
   "source": [
    "### ② 印出第一頁所有文章的「作者」「標題」「時間」"
   ]
  },
  {
   "cell_type": "code",
   "execution_count": null,
   "metadata": {},
   "outputs": [],
   "source": [
    "for d in soup.find_all(class_=\"r-ent\"):\n",
    "    print ('作者:'+d.find(class_='author').text)\n",
    "    print (d.find(class_='title').text.replace('\\t', '').replace('\\n', ''))\n",
    "    print (d.find(class_='date').text)"
   ]
  },
  {
   "cell_type": "markdown",
   "metadata": {},
   "source": [
    "### ③ 試著爬爬看其他版的文章"
   ]
  },
  {
   "cell_type": "code",
   "execution_count": 31,
   "metadata": {},
   "outputs": [],
   "source": [
    "import requests\n",
    "from bs4 import BeautifulSoup\n",
    "\n",
    "url = 'https://www.ptt.cc/bbs/Gossiping/index.html'\n",
    "r = requests.get(url, cookies={'over18': '1'})\n",
    "\n",
    "soup = BeautifulSoup(r.text, \"html5lib\")\n"
   ]
  },
  {
   "cell_type": "code",
   "execution_count": 32,
   "metadata": {},
   "outputs": [
    {
     "name": "stdout",
     "output_type": "stream",
     "text": [
      "privateeyes\n",
      "Re: [問卦] 中國知名網媒:台灣PTT怪異的互聯網活化石\n",
      " 3/16\n"
     ]
    }
   ],
   "source": [
    "author = soup.find(class_=\"r-ent\").find(class_='author').text\n",
    "title = soup.find(class_=\"r-ent\").find(class_='title').text.replace('\\t', '').replace('\\n', '')\n",
    "date = soup.find(class_=\"r-ent\").find(class_='date').text\n",
    "print (author)\n",
    "print (title)\n",
    "print (date)"
   ]
  },
  {
   "cell_type": "code",
   "execution_count": null,
   "metadata": {},
   "outputs": [],
   "source": []
  }
 ],
 "metadata": {
  "kernelspec": {
   "display_name": "Python 3",
   "language": "python",
   "name": "python3"
  },
  "language_info": {
   "codemirror_mode": {
    "name": "ipython",
    "version": 3
   },
   "file_extension": ".py",
   "mimetype": "text/x-python",
   "name": "python",
   "nbconvert_exporter": "python",
   "pygments_lexer": "ipython3",
   "version": "3.7.3"
  }
 },
 "nbformat": 4,
 "nbformat_minor": 2
}
