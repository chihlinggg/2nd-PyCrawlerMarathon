{
 "cells": [
  {
   "cell_type": "markdown",
   "metadata": {},
   "source": [
    "# PTT 網路爬蟲實作練習\n",
    "\n",
    "\n",
    "* 能夠利用 Request + BeatifulSour 撰寫爬蟲，並存放到合適的資料結構\n"
   ]
  },
  {
   "cell_type": "markdown",
   "metadata": {},
   "source": [
    "## 作業目標\n",
    "\n",
    "根據範例 ，完成以下問題：\n",
    "\n",
    "* ① 印出最新文章的「作者」「標題」「時間」\n",
    "* ② 印出第一頁所有文章的「作者」「標題」「時間」\n"
   ]
  },
  {
   "cell_type": "code",
   "execution_count": 2,
   "metadata": {},
   "outputs": [],
   "source": [
    "import requests\n",
    "from bs4 import BeautifulSoup\n",
    "\n",
    "url = 'https://www.ptt.cc/bbs/NBA/index.html'\n",
    "r = requests.get(url)\n",
    "\n",
    "soup = BeautifulSoup(r.text, \"html5lib\")"
   ]
  },
  {
   "cell_type": "markdown",
   "metadata": {},
   "source": [
    "### ① 印出最新文章的「作者」「標題」「時間」"
   ]
  },
  {
   "cell_type": "code",
   "execution_count": 24,
   "metadata": {},
   "outputs": [
    {
     "name": "stdout",
     "output_type": "stream",
     "text": [
      "-\n",
      "(本文已被刪除) [jjeffrey1015]\n",
      " 3/16\n"
     ]
    }
   ],
   "source": [
    "author = soup.find(class_=\"r-ent\").find(class_='author').text\n",
    "title = soup.find(class_=\"r-ent\").find(class_='title').text.replace('\\t', '').replace('\\n', '')\n",
    "date = soup.find(class_=\"r-ent\").find(class_='date').text\n",
    "print (author)\n",
    "print (title)\n",
    "print (date)"
   ]
  },
  {
   "cell_type": "markdown",
   "metadata": {},
   "source": [
    "### ② 印出第一頁所有文章的「作者」「標題」「時間」"
   ]
  },
  {
   "cell_type": "code",
   "execution_count": 28,
   "metadata": {},
   "outputs": [
    {
     "name": "stdout",
     "output_type": "stream",
     "text": [
      "作者:-\n",
      "(本文已被刪除) [jjeffrey1015]\n",
      " 3/16\n",
      "作者:liuuuuuu\n",
      "[情報] 假設6月復賽，剩餘賽程安排與新賽季時間\n",
      " 3/16\n",
      "作者:-\n",
      "(本文已被刪除) [jjeffrey1015]\n",
      " 3/16\n",
      "作者:love1500274\n",
      "[外絮] 對Gallinari而言 NBA停賽並不突然\n",
      " 3/16\n",
      "作者:-\n",
      "(本文已被刪除) [Tuesday]\n",
      " 3/16\n",
      "作者:thnlkj0665\n",
      "[花邊] 考慮海外發展？湯瑪斯:需要一支想要你的球隊\n",
      " 3/16\n",
      "作者:pneumo\n",
      "[花邊] LBJ開玩笑說他要去Wakanda\n",
      " 3/16\n",
      "作者:gogopacer\n",
      "[討論] 如果直接季後賽 MVP誰比較有機會?\n",
      " 3/16\n",
      "作者:-\n",
      "(本文已被刪除) [KenHiraiTW]\n",
      " 3/16\n",
      "作者:-\n",
      "(本文已被刪除) [SupHateSpurs]\n",
      " 3/16\n",
      "作者:sodistrues\n",
      "[花邊] 沒球打看自己精華 柯瑞自爆：一天看兩\n",
      " 3/16\n",
      "作者:joqomo\n",
      "[新聞] 美國民眾防疫恐慌　球星富尼耶家門口的水\n",
      " 3/16\n",
      "作者:Yui5\n",
      "[新聞] NBA復賽怎打？丁維迪提議大混戰\n",
      " 3/16\n",
      "作者:Yui5\n",
      "[花邊] 富尼耶吐槽法國波爾多人潮：這太瘋狂了\n",
      " 3/16\n",
      "作者:Newstart\n",
      "[外絮] 米邱:花了點時間平息對Gobert的怒火\n",
      " 3/16\n",
      "作者:j78724423\n",
      "[新聞] NBA球季何時能復賽? 恐怕得等到6月中下旬\n",
      " 3/16\n",
      "作者:hvariables\n",
      "[專欄] 戈貝爾千夫所指的背後 世界瞬間天翻地覆\n",
      " 3/16\n",
      "作者:thnlkj0665\n",
      "[情報] Karl-Anthony Towns 捐出10萬元給Mayo診所\n",
      " 3/16\n",
      "作者:Vedan\n",
      "[公告] 板規v6.8\n",
      " 5/24\n",
      "作者:qazwsx879345\n",
      "[公告] 版主上任相關事項 \n",
      "10/25\n",
      "作者:Acetoxy\n",
      "[情報] SEASON Schedule 賽程 March 19–20\n",
      " 3/02\n",
      "作者:Vedan\n",
      "[公告] 第一次被退文，可在三天後刪除退文\n",
      " 3/09\n",
      "作者:namie810303\n",
      "[公告]大怒灌 \n",
      " 3/12\n"
     ]
    }
   ],
   "source": [
    "for d in soup.find_all(class_=\"r-ent\"):\n",
    "    print ('作者:'+d.find(class_='author').text)\n",
    "    print (d.find(class_='title').text.replace('\\t', '').replace('\\n', ''))\n",
    "    print (d.find(class_='date').text)"
   ]
  },
  {
   "cell_type": "markdown",
   "metadata": {},
   "source": [
    "### ③ 試著爬爬看其他版的文章"
   ]
  },
  {
   "cell_type": "code",
   "execution_count": 31,
   "metadata": {},
   "outputs": [],
   "source": [
    "import requests\n",
    "from bs4 import BeautifulSoup\n",
    "\n",
    "url = 'https://www.ptt.cc/bbs/Gossiping/index.html'\n",
    "r = requests.get(url, cookies={'over18': '1'})\n",
    "\n",
    "soup = BeautifulSoup(r.text, \"html5lib\")\n"
   ]
  },
  {
   "cell_type": "code",
   "execution_count": 32,
   "metadata": {},
   "outputs": [
    {
     "name": "stdout",
     "output_type": "stream",
     "text": [
      "privateeyes\n",
      "Re: [問卦] 中國知名網媒:台灣PTT怪異的互聯網活化石\n",
      " 3/16\n"
     ]
    }
   ],
   "source": [
    "author = soup.find(class_=\"r-ent\").find(class_='author').text\n",
    "title = soup.find(class_=\"r-ent\").find(class_='title').text.replace('\\t', '').replace('\\n', '')\n",
    "date = soup.find(class_=\"r-ent\").find(class_='date').text\n",
    "print (author)\n",
    "print (title)\n",
    "print (date)"
   ]
  },
  {
   "cell_type": "code",
   "execution_count": null,
   "metadata": {},
   "outputs": [],
   "source": []
  }
 ],
 "metadata": {
  "kernelspec": {
   "display_name": "Python 3",
   "language": "python",
   "name": "python3"
  },
  "language_info": {
   "codemirror_mode": {
    "name": "ipython",
    "version": 3
   },
   "file_extension": ".py",
   "mimetype": "text/x-python",
   "name": "python",
   "nbconvert_exporter": "python",
   "pygments_lexer": "ipython3",
   "version": "3.7.3"
  }
 },
 "nbformat": 4,
 "nbformat_minor": 2
}
